{
 "cells": [
  {
   "cell_type": "markdown",
   "metadata": {},
   "source": [
    "# Project 3: Wrangle OpenStreetMap Data\n",
    "In this project, xml data from OpenStreetMap is taken from a location in the world. That xml data is audited and cleaned and then converted to csv. That csv data will then loaded into a SQL database where it will be queried and explored. Documentation of the process will also be included. "
   ]
  },
  {
   "cell_type": "markdown",
   "metadata": {},
   "source": [
    "## Project Objectives\n",
    "- Gather uncleaned data from OpenStreetMap from somewhere in the world\n",
    "- Clean, Audit, and Transform the data\n",
    "- Convert cleaned data to csv\n",
    "- Convert csv files to SQL database using SQLite\n",
    "- Perform some exploratory analysis on final data in the database"
   ]
  },
  {
   "cell_type": "markdown",
   "metadata": {},
   "source": [
    "## Map Area\n",
    "Atlanta, Georgia, USA\n",
    "\n",
    "https://www.openstreetmap.org/export#map=12/33.7844/-84.3863\n",
    "\n",
    "I chose this area because it's my hometown and I live here.\n",
    "\n",
    "![Atlanta, Georgia, USA](img/map/atlanta.png)"
   ]
  },
  {
   "cell_type": "markdown",
   "metadata": {},
   "source": [
    "## Problems Encountered\n",
    "The whole file that I got from OpenStreeMap was 203MB. I created a 20MB sample file to do most of my preliminary testing. I actually didn't encounter many expected problems in this data set. The following are a list of issues that I encountered:\n",
    "    - Issues determining tag type\n",
    "    - Ways that pass through two (or more) counties"
   ]
  },
  {
   "cell_type": "markdown",
   "metadata": {},
   "source": [
    "### Issues determining tag type\n",
    "Determing the tag type was tricky because it was somewhat open-ended and I had to decide what would be the most informative value that I could use. In solving this problem, I went through the usual workflow of getting the data into the database. I was then able to look through the records in the database and ascertain which values in the key/value pair were really useful for certain elements. For example, I saw the value ['leisure' for the parks key](img/park.png) and ['neighborhood' for the place key](img/neighborhood.png). I went through, in this manner, and determined what kind of tag_types I could ascertain (or were worth ascertaining). \n",
    "\n",
    "The values that I came up with were stored in the tag_type_list variable and used to programatically set the tag type in the get_tag_type method. This logic is demostrated in the code snippet below. "
   ]
  },
  {
   "cell_type": "code",
   "execution_count": null,
   "metadata": {
    "collapsed": true
   },
   "outputs": [],
   "source": [
    "tag_type_list = ['amenity', 'tourism', 'shop', 'landuse', 'highway', \\\n",
    "    'leisure', 'place', 'gnis:feature_type', 'aeroway', 'railway',\n",
    "    'waterway', 'natural']\n",
    "\n",
    "def get_tag_type(parent):\n",
    "    try:\n",
    "        # set the value of the element as the type for specific keys\n",
    "        tag_type = [tag.attrib['v'] for tag in parent \\\n",
    "            if tag.tag == 'tag' and tag.attrib['k'] in tag_type_list]\n",
    "        if len(tag_type) > 0:\n",
    "            return tag_type[0].strip().replace('_',' ')\n",
    "    except Exception as e:\n",
    "        print('problem retreiving tag type')\n",
    "    return ''"
   ]
  },
  {
   "cell_type": "markdown",
   "metadata": {},
   "source": [
    "Here is a [before](img/p1_b4.png) and [after](img/p1_after.png) example of the correction"
   ]
  },
  {
   "cell_type": "markdown",
   "metadata": {},
   "source": [
    "### \"Ways\" that pass through two (or more) counties\n",
    "Some way elements pass through more than one region with a different county name or different zip code. This yields tag values that look like this: \"30213; 30314\"\n",
    "\n",
    "When I'm searching for this information on the database, I would probably like to know both regions that the way passes through, so I decided to create a new field for those compound values. When I search for them, I should see both - which seems more accurate. The code snippet below demonstrates this logic."
   ]
  },
  {
   "cell_type": "code",
   "execution_count": null,
   "metadata": {
    "collapsed": true
   },
   "outputs": [],
   "source": [
    "# if there is a compound value here, split into two separate tags\n",
    "if ';' in tag.attrib['v']:\n",
    "    # this way crosses two counties -- split into two\n",
    "    values = tag.attrib['v'].split(';')\n",
    "    for v in values:\n",
    "        way_tags.append({'id':parent.attrib['id'],\n",
    "            'key':tag.attrib['k'], 'value':v,\n",
    "            'type':tag_type\n",
    "        })\n",
    "# otherwise add tag as usual\n",
    "else:\n",
    "    way_tags.append({'id':parent.attrib['id'],\n",
    "        'key':tag.attrib['k'], 'value':tag.attrib['v'],\n",
    "        'type':tag_type\n",
    "    })"
   ]
  },
  {
   "cell_type": "markdown",
   "metadata": {},
   "source": [
    "Here is a [before](img/p2_b4.png) and [after](img/p2_after.png) example of the correction. When I search for the county that this way passes through in SQL, it [returns both](img/p2_query.png), which is technically true."
   ]
  },
  {
   "cell_type": "markdown",
   "metadata": {},
   "source": [
    "### Other Auditing Measures\n",
    "In addition to addressing the tag type and compound values, I did the following:\n",
    "    - Basic validation of ways, nodes, way-nodes, and tags\n",
    "    - Validated zip code for form and locality\n",
    "    - Audited phone numbers to ensure that they met the standardized ###-###-#### format"
   ]
  },
  {
   "cell_type": "markdown",
   "metadata": {},
   "source": [
    "## Setup\n",
    "Load the necessary Python Modules"
   ]
  },
  {
   "cell_type": "code",
   "execution_count": 3,
   "metadata": {
    "collapsed": false
   },
   "outputs": [
    {
     "name": "stdout",
     "output_type": "stream",
     "text": [
      "The autoreload extension is already loaded. To reload it, use:\n",
      "  %reload_ext autoreload\n"
     ]
    }
   ],
   "source": [
    "# Load the \"autoreload\" extension\n",
    "%load_ext autoreload\n",
    "\n",
    "# always reload modules marked with \"%aimport\"\n",
    "%autoreload 1\n",
    "\n",
    "%aimport map_cleanup\n",
    "%aimport map_cleanup_validation\n",
    "import map_cleanup as mc\n",
    "import map_cleanup_validation as mcv"
   ]
  },
  {
   "cell_type": "markdown",
   "metadata": {},
   "source": [
    "## Group the \"way\" and \"node\" elements and their respective tags into lists"
   ]
  },
  {
   "cell_type": "code",
   "execution_count": 19,
   "metadata": {
    "collapsed": false
   },
   "outputs": [
    {
     "name": "stdout",
     "output_type": "stream",
     "text": [
      "grouping root elements...\n",
      "done!\n",
      "0.07589540084203085\n"
     ]
    }
   ],
   "source": [
    "# Group the root-level tags into serparate collections -- validation is done during this process\n",
    "import time\n",
    "\n",
    "start = time.time()\n",
    "mc.group_elements(mc.SAMPLE_OSM_FILE)\n",
    "end = time.time()\n",
    "print((end - start)/60.0)"
   ]
  },
  {
   "cell_type": "markdown",
   "metadata": {},
   "source": [
    "A list of problems that occured. Note that certain problems (such as zip code problem) were fixed in runtime."
   ]
  },
  {
   "cell_type": "code",
   "execution_count": 20,
   "metadata": {
    "collapsed": false
   },
   "outputs": [
    {
     "data": {
      "text/plain": [
       "{'id': [],\n",
       " 'node': [],\n",
       " 'tag': [],\n",
       " 'way': [],\n",
       " 'wn': [],\n",
       " 'zip_code': '30329; 30324'}"
      ]
     },
     "execution_count": 20,
     "metadata": {},
     "output_type": "execute_result"
    }
   ],
   "source": [
    "mcv.problems"
   ]
  },
  {
   "cell_type": "markdown",
   "metadata": {},
   "source": [
    "## Integrate the list of elements into a csv file"
   ]
  },
  {
   "cell_type": "code",
   "execution_count": 21,
   "metadata": {
    "collapsed": false
   },
   "outputs": [
    {
     "name": "stdout",
     "output_type": "stream",
     "text": [
      "creating  nodes.csv ...\n",
      "     rewriting...\n",
      "done!\n",
      "creating  node_tags.csv ...\n",
      "     rewriting...\n",
      "done!\n",
      "creating  ways.csv ...\n",
      "     rewriting...\n",
      "done!\n",
      "creating  way_tags.csv ...\n",
      "     rewriting...\n",
      "done!\n",
      "creating  way_nodes.csv ...\n",
      "     rewriting...\n",
      "done!\n"
     ]
    }
   ],
   "source": [
    "def create_csv_files():\n",
    "    # create nodes.csv\n",
    "    mc.convert_to_csv(\"nodes.csv\", mc.node_fields, mc.nodes)\n",
    "    # create node_tags.csv\n",
    "    mc.convert_to_csv(\"node_tags.csv\", mc.tag_fields, mc.node_tags)\n",
    "    # create ways.csv\n",
    "    mc.convert_to_csv(\"ways.csv\", mc.way_fields, mc.ways)\n",
    "    # create way_tags.csv\n",
    "    mc.convert_to_csv(\"way_tags.csv\", mc.tag_fields, mc.way_tags)\n",
    "    # create way_nodes.csv\n",
    "    mc.convert_to_csv(\"way_nodes.csv\", mc.way_node_fields, mc.way_nodes)\n",
    "create_csv_files()"
   ]
  },
  {
   "cell_type": "markdown",
   "metadata": {},
   "source": [
    "## Add the csv files to SQL database"
   ]
  },
  {
   "cell_type": "code",
   "execution_count": 22,
   "metadata": {
    "collapsed": false
   },
   "outputs": [],
   "source": [
    "%aimport map_cleanup_db\n",
    "import sqlite3\n",
    "import map_cleanup_db as mcdb\n",
    "\n",
    "connection = sqlite3.connect(mcdb.DB_FILE)"
   ]
  },
  {
   "cell_type": "code",
   "execution_count": 23,
   "metadata": {
    "collapsed": false
   },
   "outputs": [
    {
     "name": "stdout",
     "output_type": "stream",
     "text": [
      "clearing tables...\n",
      "done!\n"
     ]
    }
   ],
   "source": [
    "mcdb.clear_tables(connection)"
   ]
  },
  {
   "cell_type": "code",
   "execution_count": 24,
   "metadata": {
    "collapsed": false
   },
   "outputs": [],
   "source": [
    "# Create the tables\n",
    "mcdb.create_tables(connection)"
   ]
  },
  {
   "cell_type": "code",
   "execution_count": 25,
   "metadata": {
    "collapsed": false,
    "scrolled": true
   },
   "outputs": [
    {
     "name": "stdout",
     "output_type": "stream",
     "text": [
      "inserting  csv/nodes.csv into db/atlanta.db ...\n",
      "done!\n",
      "inserting  csv/node_tags.csv into db/atlanta.db ...\n",
      "done!\n",
      "inserting  csv/ways.csv into db/atlanta.db ...\n",
      "done!\n",
      "inserting  csv/way_tags.csv into db/atlanta.db ...\n",
      "done!\n",
      "inserting  csv/way_nodes.csv into db/atlanta.db ...\n",
      "done!\n"
     ]
    }
   ],
   "source": [
    "# Add nodes to database\n",
    "mcdb.insert_node('csv/nodes.csv', connection)\n",
    "mcdb.insert_node_tag('csv/node_tags.csv', connection)\n",
    "mcdb.insert_way('csv/ways.csv', connection)\n",
    "mcdb.insert_way_tag('csv/way_tags.csv', connection)\n",
    "mcdb.insert_way_node('csv/way_nodes.csv', connection)"
   ]
  },
  {
   "cell_type": "markdown",
   "metadata": {
    "collapsed": true
   },
   "source": [
    "## Data Overview"
   ]
  },
  {
   "cell_type": "markdown",
   "metadata": {},
   "source": [
    "### File Sizes"
   ]
  },
  {
   "cell_type": "markdown",
   "metadata": {},
   "source": [
    "- map.osm --- 194MB\n",
    "- sample.osm --- 19MB\n",
    "- nodes.csv --- 8MB\n",
    "- node_tags.csv --- 155KB\n",
    "- ways.csv --- 750KB\n",
    "- way_tags.csv --- 1.3MB\n",
    "- way_nodes.csv --- 2.2MB\n",
    "- atlanta.db --- 108MB"
   ]
  },
  {
   "cell_type": "markdown",
   "metadata": {},
   "source": [
    "### Number of Nodes"
   ]
  },
  {
   "cell_type": "code",
   "execution_count": 23,
   "metadata": {
    "collapsed": false
   },
   "outputs": [
    {
     "name": "stdout",
     "output_type": "stream",
     "text": [
      "executing query...\n",
      "done!\n",
      "834793\n"
     ]
    }
   ],
   "source": [
    "get_node_count = \"SELECT COUNT('node') FROM 'node'\"\n",
    "node_count = mcdb.run_query(get_node_count, connection).fetchone()\n",
    "print(node_count[0])"
   ]
  },
  {
   "cell_type": "markdown",
   "metadata": {},
   "source": [
    "### Number of Ways"
   ]
  },
  {
   "cell_type": "code",
   "execution_count": 26,
   "metadata": {
    "collapsed": false
   },
   "outputs": [
    {
     "name": "stdout",
     "output_type": "stream",
     "text": [
      "executing query...\n",
      "done!\n",
      "100115\n"
     ]
    }
   ],
   "source": [
    "get_ways_count = \"SELECT COUNT('way') FROM 'way'\"\n",
    "ways_count = mcdb.run_query(get_ways_count, connection).fetchone()\n",
    "print(ways_count[0])"
   ]
  },
  {
   "cell_type": "markdown",
   "metadata": {},
   "source": [
    "### Number of Unique Users"
   ]
  },
  {
   "cell_type": "code",
   "execution_count": 28,
   "metadata": {
    "collapsed": false
   },
   "outputs": [
    {
     "name": "stdout",
     "output_type": "stream",
     "text": [
      "executing query...\n",
      "done!\n",
      "182\n"
     ]
    }
   ],
   "source": [
    "get_unique_users = \"SELECT DISTINCT(uid) FROM (SELECT uid FROM 'node' UNION SELECT uid FROM 'way')\"\n",
    "unique_users = mcdb.run_query(get_unique_users, connection).fetchone()\n",
    "print(unique_users[0])"
   ]
  },
  {
   "cell_type": "markdown",
   "metadata": {},
   "source": [
    "### Number of 'Peachtree' and 'Ponce' street names\n",
    "There are 71 streets in Atlanta that include the name \"Peachtree\". It's often joked that if you ask anyone for directions, they will always send you down Peachtree. Ponce is also a common street name in the city. I wanted to see how many Peachtrees and Ponce's are in my city map and what are their actual names?"
   ]
  },
  {
   "cell_type": "code",
   "execution_count": 11,
   "metadata": {
    "collapsed": false
   },
   "outputs": [
    {
     "name": "stdout",
     "output_type": "stream",
     "text": [
      "executing query...\n",
      "done!\n",
      "executing query...\n",
      "done!\n",
      "\n",
      "number of 'ponce' streets:  6 \n",
      "\n",
      "{'South Ponce de Leon Avenue Northeast', 'Ponce de Leon Terrace Northeast', 'Ponce de Leon Place Northeast', 'Ponce de Leon Avenue Northeast', 'Ponce de Leon Court Northeast', 'Ponce De Leon Place Northeast'} \n",
      "\n",
      "number of 'peachtree' streets:  28 \n",
      "\n",
      "{'West Peachtree Place', 'Peachtree Road NE', 'Peachtree Memorial Drive Northwest', 'Peachtree Place Northwest', 'Peachtree Battle Place Northwest', 'Peachtree Place Northeast', 'Peachtree Road Northeast', 'Peachtree Road Northwest', 'Peachtree Street Southwest', 'Peachtree Street Northwest', 'Peachtree Circle Northeast', 'Peachtree Street Northeast', 'Peachtree Battle Circle Northwest', 'Peachtree St NW', 'Peachtree Drive Northeast', 'Peachtree Center Avenue Northeast', 'Peachtree Hills Avenue Northeast', 'Peachtree Valley Road Northeast', 'Peachtree Street NE', 'Peachtree Way Northeast', 'West Peachtree Street Northeast', 'Peachtree Walk Northeast', 'Peachtree Avenue Northeast', 'Peachtree Street', 'Peachtree Park Drive Northeast', 'Peachtree Battle Avenue Northwest', 'West Peachtree Street Northwest', 'Peachtree Road'}\n"
     ]
    }
   ],
   "source": [
    "# how many 'peachtree' streets are there?\n",
    "get_peachtrees = \"\"\"\n",
    "    SELECT value FROM 'ways_tags' WHERE key == 'addr:street' AND value LIKE '%peachtree%'\n",
    "\"\"\"\n",
    "peachtrees = mcdb.run_query(get_peachtrees, connection)\n",
    "peachtrees = [p[0] for p in peachtrees]\n",
    "unique_peachtrees = set(peachtrees)\n",
    "\n",
    "# how many 'ponce' streets are there?\n",
    "get_ponces = \"\"\"\n",
    "    SELECT value FROM 'ways_tags' WHERE key == 'addr:street' AND value LIKE '%ponce%'\n",
    "\"\"\"\n",
    "ponces = mcdb.run_query(get_ponces, connection)\n",
    "ponces = [p[0] for p in ponces]\n",
    "unique_ponces = set(ponces)\n",
    "\n",
    "print(\"\\nnumber of 'ponce' streets: \", len(unique_ponces), '\\n')\n",
    "print(unique_ponces,'\\n')\n",
    "print(\"number of 'peachtree' streets: \", len(unique_peachtrees), '\\n')\n",
    "print(unique_peachtrees)"
   ]
  },
  {
   "cell_type": "markdown",
   "metadata": {},
   "source": [
    "## Additional Ideas/Statistics\n",
    "Different neighborhoods define different cultural variations of a city and can give information about what to expect when you visit that city. I wanted to use coordinates to separate the OSM map by different regions and do some exploratory analysis comparing them:\n",
    "\n",
    "[Downtown](img/map/downtown.png)\n",
    "\n",
    "[Midtown](img/map/midtown.png)\n",
    "\n",
    "[Uptown](img/map/uptown.png)\n"
   ]
  },
  {
   "cell_type": "markdown",
   "metadata": {},
   "source": [
    "### Number of restaurants in each region"
   ]
  },
  {
   "cell_type": "code",
   "execution_count": 53,
   "metadata": {
    "collapsed": true
   },
   "outputs": [],
   "source": [
    "# Set the neigborhood coordinates\n",
    "downtown = {'name': 'downtown', 'minlat':'33.7452', 'minlon':'-84.4028', 'maxlat':'33.7717', 'maxlon':'-84.3788'}\n",
    "midtown = {'name': 'midtown', 'minlat':'33.7706', 'minlon':'-84.4083', 'maxlat':'33.7974', 'maxlon':'-84.3558'}\n",
    "uptown = {'name': 'uptown', 'minlat':'33.8179', 'minlon':'-84.4135', 'maxlat':'33.8624', 'maxlon':'-84.3407'}\n",
    "regions = [downtown, midtown, uptown]"
   ]
  },
  {
   "cell_type": "code",
   "execution_count": 54,
   "metadata": {
    "collapsed": false
   },
   "outputs": [
    {
     "name": "stdout",
     "output_type": "stream",
     "text": [
      "executing query...\n",
      "done!\n",
      "Number of restaurants in  downtown :  255\n",
      "executing query...\n",
      "done!\n",
      "Number of restaurants in  midtown :  439\n",
      "executing query...\n",
      "done!\n",
      "Number of restaurants in  uptown :  260\n"
     ]
    }
   ],
   "source": [
    "for region in regions:\n",
    "    query = \"SELECT value, type FROM nodes_tags \\\n",
    "                       INNER JOIN node \\\n",
    "                       ON nodes_tags.id = node.id \\\n",
    "                       WHERE (node.lat >= \" + region['minlat'] + \" AND node.lon >= \" + region['minlon'] + \") \\\n",
    "                       AND (node.lat <= \" + region['maxlat'] + \" and node.lon <= \" + region['maxlon'] + \") \\\n",
    "                       AND (nodes_tags.type == 'restaurant' OR nodes_tags.type == 'fast food')\"\n",
    "\n",
    "    midtown_nodes = mcdb.run_query(query, connection)\n",
    "    print('Number of restaurants in ',region['name'], ': ' , len(midtown_nodes.fetchall()))"
   ]
  },
  {
   "cell_type": "markdown",
   "metadata": {},
   "source": [
    "### Number of bike-friendly roads and paths"
   ]
  },
  {
   "cell_type": "code",
   "execution_count": 56,
   "metadata": {
    "collapsed": false
   },
   "outputs": [
    {
     "name": "stdout",
     "output_type": "stream",
     "text": [
      "executing query...\n",
      "done!\n",
      "Number of bike lanes in  downtown :  182\n",
      "executing query...\n",
      "done!\n",
      "Number of bike lanes in  midtown :  1843\n",
      "executing query...\n",
      "done!\n",
      "Number of bike lanes in  uptown :  414\n"
     ]
    }
   ],
   "source": [
    "for region in regions:\n",
    "    query = \"SELECT value, type FROM ways_tags \\\n",
    "                       INNER JOIN ways_nodes \\\n",
    "                       ON ways_tags.id = ways_nodes.id \\\n",
    "                       INNER JOIN node \\\n",
    "                       ON ways_nodes.node_id = node.id \\\n",
    "                       WHERE (node.lat >= \" + region['minlat'] + \" AND node.lon >= \" + region['minlon'] + \") \\\n",
    "                       AND (node.lat <= \" + region['maxlat'] + \" and node.lon <= \" + region['maxlon'] + \") \\\n",
    "                       AND (key == 'bicycle' AND value != 'no' AND value != 'dismount')\"\n",
    "    midtown_ways = mcdb.run_query(query, connection)\n",
    "    print('Number of bike lanes in ', region['name'], ': ', len(midtown_ways.fetchall()))"
   ]
  },
  {
   "cell_type": "markdown",
   "metadata": {
    "collapsed": true
   },
   "source": [
    "## Conclusion\n",
    "Based on my analysis, it seems like the data is in good form as I didn't find many obvious errors. The issues that I did have with the data had more to do with getting it in a desirable format (e.g. phone number, tag types). It might be useful to add a code which represent the nieghborhood or district to which an element belongs. This would allow policymakers to use OpenStreetMap in conjunction with other datasets to understand how their district compares to other districts in the city and to make necessary adjustments. Neighborhood drawingboards change, however, and are constantly subject to dispute and (gulp) politics. It is, however, a compeling angle given the historically disadvantged nature of some areas versus others. Population density and many other factors are not taken into account, so there's also the risk that any anlalysis with this dataset would be too simplistic. \n",
    "\n",
    "Another correction would be to add more logic to the 'type' field. In the restaurant example from before, 'restaurant' and 'fast food' nodes could reasonably be aggregated into a single category called 'restaurant' or 'dining'. Just as the neighborhood suggestion, this would be subject to disagreements on what should and shouldn't be aggregated. "
   ]
  },
  {
   "cell_type": "markdown",
   "metadata": {},
   "source": [
    "## Resources"
   ]
  },
  {
   "cell_type": "markdown",
   "metadata": {
    "collapsed": true
   },
   "source": [
    "- stackoverflow.com\n",
    "- Udacity's' Data Wrangling Lessons\n",
    "- w3.org\n",
    "- Python Documentation"
   ]
  }
 ],
 "metadata": {
  "anaconda-cloud": {},
  "kernelspec": {
   "display_name": "Python [default]",
   "language": "python",
   "name": "python3"
  },
  "language_info": {
   "codemirror_mode": {
    "name": "ipython",
    "version": 3
   },
   "file_extension": ".py",
   "mimetype": "text/x-python",
   "name": "python",
   "nbconvert_exporter": "python",
   "pygments_lexer": "ipython3",
   "version": "3.5.2"
  }
 },
 "nbformat": 4,
 "nbformat_minor": 1
}
